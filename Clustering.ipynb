{
 "cells": [
  {
   "cell_type": "markdown",
   "metadata": {},
   "source": [
    "# TP N°4 :  Apprentissage non supervisé : Clustering"
   ]
  },
  {
   "cell_type": "markdown",
   "metadata": {},
   "source": [
    "**Librairies utilisées**"
   ]
  },
  {
   "cell_type": "code",
   "execution_count": 1,
   "metadata": {},
   "outputs": [],
   "source": [
    "import pandas as pd\n",
    "import matplotlib.pyplot as plt\n",
    "from scipy.cluster.hierarchy import dendrogram, linkage, fcluster\n",
    "import numpy as np\n",
    "from sklearn import cluster, metrics"
   ]
  },
  {
   "cell_type": "markdown",
   "metadata": {},
   "source": [
    "## Partie 1 : Dataset"
   ]
  },
  {
   "cell_type": "markdown",
   "metadata": {},
   "source": [
    "**Chargement des données**"
   ]
  },
  {
   "cell_type": "code",
   "execution_count": 2,
   "metadata": {},
   "outputs": [],
   "source": [
    "fromage=pd.read_table(r\"fromage.txt\",sep=\"\\t\",header=0,index_col=0)"
   ]
  },
  {
   "cell_type": "code",
   "execution_count": 3,
   "metadata": {},
   "outputs": [
    {
     "data": {
      "text/plain": [
       "(29, 9)"
      ]
     },
     "execution_count": 3,
     "metadata": {},
     "output_type": "execute_result"
    }
   ],
   "source": [
    "fromage.shape"
   ]
  },
  {
   "cell_type": "markdown",
   "metadata": {},
   "source": [
    "Le dataset contient initialement 29 lignes et 9 attributs."
   ]
  },
  {
   "cell_type": "markdown",
   "metadata": {},
   "source": [
    "Le tableau suivant montre les statistiques descriptives de ces données."
   ]
  },
  {
   "cell_type": "code",
   "execution_count": 4,
   "metadata": {},
   "outputs": [
    {
     "data": {
      "text/html": [
       "<div>\n",
       "<style scoped>\n",
       "    .dataframe tbody tr th:only-of-type {\n",
       "        vertical-align: middle;\n",
       "    }\n",
       "\n",
       "    .dataframe tbody tr th {\n",
       "        vertical-align: top;\n",
       "    }\n",
       "\n",
       "    .dataframe thead th {\n",
       "        text-align: right;\n",
       "    }\n",
       "</style>\n",
       "<table border=\"1\" class=\"dataframe\">\n",
       "  <thead>\n",
       "    <tr style=\"text-align: right;\">\n",
       "      <th></th>\n",
       "      <th>calories</th>\n",
       "      <th>sodium</th>\n",
       "      <th>calcium</th>\n",
       "      <th>lipides</th>\n",
       "      <th>retinol</th>\n",
       "      <th>folates</th>\n",
       "      <th>proteines</th>\n",
       "      <th>cholesterol</th>\n",
       "      <th>magnesium</th>\n",
       "    </tr>\n",
       "  </thead>\n",
       "  <tbody>\n",
       "    <tr>\n",
       "      <td>count</td>\n",
       "      <td>29.000000</td>\n",
       "      <td>29.000000</td>\n",
       "      <td>29.000000</td>\n",
       "      <td>29.000000</td>\n",
       "      <td>29.000000</td>\n",
       "      <td>29.000000</td>\n",
       "      <td>29.000000</td>\n",
       "      <td>29.000000</td>\n",
       "      <td>29.000000</td>\n",
       "    </tr>\n",
       "    <tr>\n",
       "      <td>mean</td>\n",
       "      <td>300.034483</td>\n",
       "      <td>210.086207</td>\n",
       "      <td>185.734483</td>\n",
       "      <td>24.158621</td>\n",
       "      <td>67.562069</td>\n",
       "      <td>13.010345</td>\n",
       "      <td>20.168966</td>\n",
       "      <td>74.586207</td>\n",
       "      <td>26.965517</td>\n",
       "    </tr>\n",
       "    <tr>\n",
       "      <td>std</td>\n",
       "      <td>91.914356</td>\n",
       "      <td>108.678923</td>\n",
       "      <td>72.528882</td>\n",
       "      <td>8.129642</td>\n",
       "      <td>24.163098</td>\n",
       "      <td>11.723339</td>\n",
       "      <td>6.959788</td>\n",
       "      <td>28.245755</td>\n",
       "      <td>11.318388</td>\n",
       "    </tr>\n",
       "    <tr>\n",
       "      <td>min</td>\n",
       "      <td>70.000000</td>\n",
       "      <td>22.000000</td>\n",
       "      <td>72.600000</td>\n",
       "      <td>3.400000</td>\n",
       "      <td>37.100000</td>\n",
       "      <td>1.200000</td>\n",
       "      <td>4.100000</td>\n",
       "      <td>10.000000</td>\n",
       "      <td>10.000000</td>\n",
       "    </tr>\n",
       "    <tr>\n",
       "      <td>25%</td>\n",
       "      <td>292.000000</td>\n",
       "      <td>140.000000</td>\n",
       "      <td>132.900000</td>\n",
       "      <td>23.400000</td>\n",
       "      <td>51.600000</td>\n",
       "      <td>4.900000</td>\n",
       "      <td>17.800000</td>\n",
       "      <td>70.000000</td>\n",
       "      <td>20.000000</td>\n",
       "    </tr>\n",
       "    <tr>\n",
       "      <td>50%</td>\n",
       "      <td>321.000000</td>\n",
       "      <td>223.000000</td>\n",
       "      <td>202.300000</td>\n",
       "      <td>26.300000</td>\n",
       "      <td>62.300000</td>\n",
       "      <td>6.400000</td>\n",
       "      <td>21.000000</td>\n",
       "      <td>80.000000</td>\n",
       "      <td>26.000000</td>\n",
       "    </tr>\n",
       "    <tr>\n",
       "      <td>75%</td>\n",
       "      <td>355.000000</td>\n",
       "      <td>276.000000</td>\n",
       "      <td>220.500000</td>\n",
       "      <td>29.100000</td>\n",
       "      <td>76.400000</td>\n",
       "      <td>21.100000</td>\n",
       "      <td>23.400000</td>\n",
       "      <td>90.000000</td>\n",
       "      <td>30.000000</td>\n",
       "    </tr>\n",
       "    <tr>\n",
       "      <td>max</td>\n",
       "      <td>406.000000</td>\n",
       "      <td>432.000000</td>\n",
       "      <td>334.600000</td>\n",
       "      <td>33.300000</td>\n",
       "      <td>150.500000</td>\n",
       "      <td>36.400000</td>\n",
       "      <td>35.700000</td>\n",
       "      <td>120.000000</td>\n",
       "      <td>51.000000</td>\n",
       "    </tr>\n",
       "  </tbody>\n",
       "</table>\n",
       "</div>"
      ],
      "text/plain": [
       "         calories      sodium     calcium    lipides     retinol    folates  \\\n",
       "count   29.000000   29.000000   29.000000  29.000000   29.000000  29.000000   \n",
       "mean   300.034483  210.086207  185.734483  24.158621   67.562069  13.010345   \n",
       "std     91.914356  108.678923   72.528882   8.129642   24.163098  11.723339   \n",
       "min     70.000000   22.000000   72.600000   3.400000   37.100000   1.200000   \n",
       "25%    292.000000  140.000000  132.900000  23.400000   51.600000   4.900000   \n",
       "50%    321.000000  223.000000  202.300000  26.300000   62.300000   6.400000   \n",
       "75%    355.000000  276.000000  220.500000  29.100000   76.400000  21.100000   \n",
       "max    406.000000  432.000000  334.600000  33.300000  150.500000  36.400000   \n",
       "\n",
       "       proteines  cholesterol  magnesium  \n",
       "count  29.000000    29.000000  29.000000  \n",
       "mean   20.168966    74.586207  26.965517  \n",
       "std     6.959788    28.245755  11.318388  \n",
       "min     4.100000    10.000000  10.000000  \n",
       "25%    17.800000    70.000000  20.000000  \n",
       "50%    21.000000    80.000000  26.000000  \n",
       "75%    23.400000    90.000000  30.000000  \n",
       "max    35.700000   120.000000  51.000000  "
      ]
     },
     "execution_count": 4,
     "metadata": {},
     "output_type": "execute_result"
    }
   ],
   "source": [
    "fromage.describe()"
   ]
  },
  {
   "cell_type": "markdown",
   "metadata": {},
   "source": [
    "Les attributs de ces données  sont:"
   ]
  },
  {
   "cell_type": "code",
   "execution_count": 5,
   "metadata": {},
   "outputs": [
    {
     "data": {
      "text/plain": [
       "Index(['calories', 'sodium', 'calcium', 'lipides', 'retinol', 'folates',\n",
       "       'proteines', 'cholesterol', 'magnesium'],\n",
       "      dtype='object')"
      ]
     },
     "execution_count": 5,
     "metadata": {},
     "output_type": "execute_result"
    }
   ],
   "source": [
    "fromage.columns"
   ]
  },
  {
   "cell_type": "markdown",
   "metadata": {},
   "source": [
    "On affiche la matrice de distribution de données"
   ]
  },
  {
   "cell_type": "code",
   "execution_count": 6,
   "metadata": {},
   "outputs": [
    {
     "data": {
      "image/png": "[encoded data removed]",
      "text/plain": [
       "<Figure size 648x648 with 81 Axes>"
      ]
     },
     "metadata": {
      "needs_background": "light"
     },
     "output_type": "display_data"
    }
   ],
   "source": [
    "pd.plotting.scatter_matrix(fromage, figsize=(9,9),diagonal='kde')\n",
    "plt.show()"
   ]
  },
  {
   "cell_type": "markdown",
   "metadata": {},
   "source": [
    "➠ D'après ce graphe, on constate qu'il existe une forte corrélation entre **lipides**, **caloriees** et **cholestérol**."
   ]
  },
  {
   "cell_type": "markdown",
   "metadata": {},
   "source": [
    "## Partie 2 : K-means"
   ]
  },
  {
   "cell_type": "markdown",
   "metadata": {},
   "source": [
    "Initialisation de l'algorithme k-means avec un nombre de classes égal à 4."
   ]
  },
  {
   "cell_type": "code",
   "execution_count": 7,
   "metadata": {},
   "outputs": [],
   "source": [
    "np.random.seed(0)\n",
    "kmeans = cluster.KMeans(n_clusters = 4)"
   ]
  },
  {
   "cell_type": "markdown",
   "metadata": {},
   "source": [
    "Définition du modèle de clustering."
   ]
  },
  {
   "cell_type": "code",
   "execution_count": 8,
   "metadata": {},
   "outputs": [
    {
     "data": {
      "text/plain": [
       "KMeans(algorithm='auto', copy_x=True, init='k-means++', max_iter=300,\n",
       "       n_clusters=4, n_init=10, n_jobs=None, precompute_distances='auto',\n",
       "       random_state=None, tol=0.0001, verbose=0)"
      ]
     },
     "execution_count": 8,
     "metadata": {},
     "output_type": "execute_result"
    }
   ],
   "source": [
    "kmeans.fit(fromage)"
   ]
  },
  {
   "cell_type": "markdown",
   "metadata": {},
   "source": [
    "Tableau des indices trié selon le cluster"
   ]
  },
  {
   "cell_type": "code",
   "execution_count": 9,
   "metadata": {},
   "outputs": [],
   "source": [
    "idk = np.argsort(kmeans.labels_)"
   ]
  },
  {
   "cell_type": "markdown",
   "metadata": {},
   "source": [
    "On affiche les fromages et leurs clusters équivalents."
   ]
  },
  {
   "cell_type": "code",
   "execution_count": 10,
   "metadata": {},
   "outputs": [
    {
     "data": {
      "text/html": [
       "<div>\n",
       "<style scoped>\n",
       "    .dataframe tbody tr th:only-of-type {\n",
       "        vertical-align: middle;\n",
       "    }\n",
       "\n",
       "    .dataframe tbody tr th {\n",
       "        vertical-align: top;\n",
       "    }\n",
       "\n",
       "    .dataframe thead th {\n",
       "        text-align: right;\n",
       "    }\n",
       "</style>\n",
       "<table border=\"1\" class=\"dataframe\">\n",
       "  <thead>\n",
       "    <tr style=\"text-align: right;\">\n",
       "      <th></th>\n",
       "      <th>Fromages</th>\n",
       "    </tr>\n",
       "  </thead>\n",
       "  <tbody>\n",
       "    <tr>\n",
       "      <td>0</td>\n",
       "      <td>CarredelEst</td>\n",
       "    </tr>\n",
       "    <tr>\n",
       "      <td>0</td>\n",
       "      <td>Tome</td>\n",
       "    </tr>\n",
       "    <tr>\n",
       "      <td>0</td>\n",
       "      <td>PontlEveque</td>\n",
       "    </tr>\n",
       "    <tr>\n",
       "      <td>0</td>\n",
       "      <td>Chabichou</td>\n",
       "    </tr>\n",
       "    <tr>\n",
       "      <td>0</td>\n",
       "      <td>Chaource</td>\n",
       "    </tr>\n",
       "    <tr>\n",
       "      <td>0</td>\n",
       "      <td>Coulomniers</td>\n",
       "    </tr>\n",
       "    <tr>\n",
       "      <td>0</td>\n",
       "      <td>Fr.chevrepatemolle</td>\n",
       "    </tr>\n",
       "    <tr>\n",
       "      <td>1</td>\n",
       "      <td>Beaufort</td>\n",
       "    </tr>\n",
       "    <tr>\n",
       "      <td>1</td>\n",
       "      <td>SaintPaulin</td>\n",
       "    </tr>\n",
       "    <tr>\n",
       "      <td>1</td>\n",
       "      <td>Cheddar</td>\n",
       "    </tr>\n",
       "    <tr>\n",
       "      <td>1</td>\n",
       "      <td>Comte</td>\n",
       "    </tr>\n",
       "    <tr>\n",
       "      <td>1</td>\n",
       "      <td>Edam</td>\n",
       "    </tr>\n",
       "    <tr>\n",
       "      <td>1</td>\n",
       "      <td>Emmental</td>\n",
       "    </tr>\n",
       "    <tr>\n",
       "      <td>1</td>\n",
       "      <td>Vacherin</td>\n",
       "    </tr>\n",
       "    <tr>\n",
       "      <td>1</td>\n",
       "      <td>Parmesan</td>\n",
       "    </tr>\n",
       "    <tr>\n",
       "      <td>2</td>\n",
       "      <td>Petitsuisse40</td>\n",
       "    </tr>\n",
       "    <tr>\n",
       "      <td>2</td>\n",
       "      <td>Yaourtlaitent.nat.</td>\n",
       "    </tr>\n",
       "    <tr>\n",
       "      <td>2</td>\n",
       "      <td>Fr.frais20nat.</td>\n",
       "    </tr>\n",
       "    <tr>\n",
       "      <td>2</td>\n",
       "      <td>Fr.frais40nat.</td>\n",
       "    </tr>\n",
       "    <tr>\n",
       "      <td>3</td>\n",
       "      <td>Maroilles</td>\n",
       "    </tr>\n",
       "    <tr>\n",
       "      <td>3</td>\n",
       "      <td>Morbier</td>\n",
       "    </tr>\n",
       "    <tr>\n",
       "      <td>3</td>\n",
       "      <td>Cantal</td>\n",
       "    </tr>\n",
       "    <tr>\n",
       "      <td>3</td>\n",
       "      <td>Camembert</td>\n",
       "    </tr>\n",
       "    <tr>\n",
       "      <td>3</td>\n",
       "      <td>Pyrenees</td>\n",
       "    </tr>\n",
       "    <tr>\n",
       "      <td>3</td>\n",
       "      <td>Reblochon</td>\n",
       "    </tr>\n",
       "    <tr>\n",
       "      <td>3</td>\n",
       "      <td>Rocquefort</td>\n",
       "    </tr>\n",
       "    <tr>\n",
       "      <td>3</td>\n",
       "      <td>Bleu</td>\n",
       "    </tr>\n",
       "    <tr>\n",
       "      <td>3</td>\n",
       "      <td>Babybel</td>\n",
       "    </tr>\n",
       "    <tr>\n",
       "      <td>3</td>\n",
       "      <td>Fr.fondu.45</td>\n",
       "    </tr>\n",
       "  </tbody>\n",
       "</table>\n",
       "</div>"
      ],
      "text/plain": [
       "             Fromages\n",
       "0         CarredelEst\n",
       "0                Tome\n",
       "0         PontlEveque\n",
       "0           Chabichou\n",
       "0            Chaource\n",
       "0         Coulomniers\n",
       "0  Fr.chevrepatemolle\n",
       "1            Beaufort\n",
       "1         SaintPaulin\n",
       "1             Cheddar\n",
       "1               Comte\n",
       "1                Edam\n",
       "1            Emmental\n",
       "1            Vacherin\n",
       "1            Parmesan\n",
       "2       Petitsuisse40\n",
       "2  Yaourtlaitent.nat.\n",
       "2      Fr.frais20nat.\n",
       "2      Fr.frais40nat.\n",
       "3           Maroilles\n",
       "3             Morbier\n",
       "3              Cantal\n",
       "3           Camembert\n",
       "3            Pyrenees\n",
       "3           Reblochon\n",
       "3          Rocquefort\n",
       "3                Bleu\n",
       "3             Babybel\n",
       "3         Fr.fondu.45"
      ]
     },
     "execution_count": 10,
     "metadata": {},
     "output_type": "execute_result"
    }
   ],
   "source": [
    "pd.DataFrame(fromage.index[idk],kmeans.labels_[idk])"
   ]
  },
  {
   "cell_type": "markdown",
   "metadata": {},
   "source": [
    "On affiche les distances aux centres de classes"
   ]
  },
  {
   "cell_type": "code",
   "execution_count": 11,
   "metadata": {},
   "outputs": [
    {
     "data": {
      "text/plain": [
       "array([[123.59715669, 285.36163076, 384.27301005, 145.46927992],\n",
       "       [110.54651897, 118.43379084, 303.10311983,  71.72681089],\n",
       "       [235.25665316,  56.72603293, 349.91323389, 218.1879268 ],\n",
       "       [159.09984736, 200.30401971, 393.76898843,  45.60922494],\n",
       "       [141.19170858, 210.31138298, 332.43471728,  84.66051854],\n",
       "       [180.75982487, 111.73150994, 371.97076666,  86.99931839],\n",
       "       [ 72.0404549 , 182.80599775, 298.65300308, 170.2611917 ],\n",
       "       [ 57.86280572, 204.98823213, 311.48990553, 105.53037193],\n",
       "       [156.41570984,  92.26223665, 348.48685233, 159.88151676],\n",
       "       [224.31195752,  79.32509258, 333.83554522, 230.88643399],\n",
       "       [ 39.94716153, 204.4018782 , 285.29211565, 155.61953412],\n",
       "       [197.13338124,  43.74211715, 293.81905359, 172.55995306],\n",
       "       [289.57992728, 102.59674855, 343.1669947 , 273.3780741 ],\n",
       "       [144.41931015, 265.24828993, 195.86579908, 252.80069897],\n",
       "       [164.74401355, 271.72958122, 400.47054979, 101.45152241],\n",
       "       [307.24796873, 336.96303256,  27.57918146, 378.20198492],\n",
       "       [286.92623741, 330.65941362,  48.43507252, 376.38946771],\n",
       "       [163.69886115, 169.20512053, 379.74839203,  39.80348477],\n",
       "       [137.46307556, 146.31641334, 360.87135   ,  31.87791398],\n",
       "       [247.92574637, 127.37007228, 405.05415842, 157.0268493 ],\n",
       "       [275.48594208, 322.76561591,  73.02996816, 370.72406639],\n",
       "       [ 66.39975258, 145.61200264, 273.9400961 , 103.74546448],\n",
       "       [103.21034693, 118.1602421 , 327.69454718,  85.09362726],\n",
       "       [106.4868939 , 149.56115075, 323.02206001,  41.96502591],\n",
       "       [215.62761551, 302.57210349, 480.78906108, 141.69363218],\n",
       "       [163.61948015,  93.47945128, 289.74900561, 120.31124386],\n",
       "       [ 44.67517687, 176.06769384, 309.5039923 ,  98.83002277],\n",
       "       [158.9611408 ,  63.47704556, 263.14012664, 168.16769428],\n",
       "       [304.65582689, 316.6232269 , 101.24362326, 346.9503587 ]])"
      ]
     },
     "execution_count": 11,
     "metadata": {},
     "output_type": "execute_result"
    }
   ],
   "source": [
    "kmeans.transform(fromage)"
   ]
  },
  {
   "cell_type": "markdown",
   "metadata": {},
   "source": [
    "On  affiche les attributs des centres de chaque cluster."
   ]
  },
  {
   "cell_type": "code",
   "execution_count": 12,
   "metadata": {},
   "outputs": [
    {
     "data": {
      "text/plain": [
       "array([[297.85714286, 239.78571429, 103.84285714,  24.91428571,\n",
       "         83.92857143,  23.05714286,  18.97142857,  71.42857143,\n",
       "         21.71428571],\n",
       "       [363.875     , 146.125     , 257.025     ,  29.05      ,\n",
       "         63.6       ,   3.8625    ,  26.5625    ,  96.25      ,\n",
       "         38.875     ],\n",
       "       [101.75      ,  44.75      , 133.75      ,   6.275     ,\n",
       "         55.15      ,  16.475     ,   7.2       ,  18.25      ,\n",
       "         11.25      ],\n",
       "       [329.8       , 306.6       , 206.82      ,  26.87      ,\n",
       "         64.24      ,  11.91      ,  21.08      ,  82.        ,\n",
       "         27.4       ]])"
      ]
     },
     "execution_count": 12,
     "metadata": {},
     "output_type": "execute_result"
    }
   ],
   "source": [
    "kmeans.cluster_centers_"
   ]
  },
  {
   "cell_type": "code",
   "execution_count": 13,
   "metadata": {},
   "outputs": [
    {
     "data": {
      "text/html": [
       "<div>\n",
       "<style scoped>\n",
       "    .dataframe tbody tr th:only-of-type {\n",
       "        vertical-align: middle;\n",
       "    }\n",
       "\n",
       "    .dataframe tbody tr th {\n",
       "        vertical-align: top;\n",
       "    }\n",
       "\n",
       "    .dataframe thead th {\n",
       "        text-align: right;\n",
       "    }\n",
       "</style>\n",
       "<table border=\"1\" class=\"dataframe\">\n",
       "  <thead>\n",
       "    <tr style=\"text-align: right;\">\n",
       "      <th></th>\n",
       "      <th>calories</th>\n",
       "      <th>sodium</th>\n",
       "      <th>calcium</th>\n",
       "      <th>lipides</th>\n",
       "      <th>retinol</th>\n",
       "      <th>folates</th>\n",
       "      <th>proteines</th>\n",
       "      <th>cholesterol</th>\n",
       "      <th>magnesium</th>\n",
       "    </tr>\n",
       "  </thead>\n",
       "  <tbody>\n",
       "    <tr>\n",
       "      <td>0</td>\n",
       "      <td>297.857143</td>\n",
       "      <td>239.785714</td>\n",
       "      <td>103.842857</td>\n",
       "      <td>24.914286</td>\n",
       "      <td>83.928571</td>\n",
       "      <td>23.057143</td>\n",
       "      <td>18.971429</td>\n",
       "      <td>71.428571</td>\n",
       "      <td>21.714286</td>\n",
       "    </tr>\n",
       "    <tr>\n",
       "      <td>1</td>\n",
       "      <td>363.875000</td>\n",
       "      <td>146.125000</td>\n",
       "      <td>257.025000</td>\n",
       "      <td>29.050000</td>\n",
       "      <td>63.600000</td>\n",
       "      <td>3.862500</td>\n",
       "      <td>26.562500</td>\n",
       "      <td>96.250000</td>\n",
       "      <td>38.875000</td>\n",
       "    </tr>\n",
       "    <tr>\n",
       "      <td>2</td>\n",
       "      <td>101.750000</td>\n",
       "      <td>44.750000</td>\n",
       "      <td>133.750000</td>\n",
       "      <td>6.275000</td>\n",
       "      <td>55.150000</td>\n",
       "      <td>16.475000</td>\n",
       "      <td>7.200000</td>\n",
       "      <td>18.250000</td>\n",
       "      <td>11.250000</td>\n",
       "    </tr>\n",
       "    <tr>\n",
       "      <td>3</td>\n",
       "      <td>329.800000</td>\n",
       "      <td>306.600000</td>\n",
       "      <td>206.820000</td>\n",
       "      <td>26.870000</td>\n",
       "      <td>64.240000</td>\n",
       "      <td>11.910000</td>\n",
       "      <td>21.080000</td>\n",
       "      <td>82.000000</td>\n",
       "      <td>27.400000</td>\n",
       "    </tr>\n",
       "  </tbody>\n",
       "</table>\n",
       "</div>"
      ],
      "text/plain": [
       "     calories      sodium     calcium    lipides    retinol    folates  \\\n",
       "0  297.857143  239.785714  103.842857  24.914286  83.928571  23.057143   \n",
       "1  363.875000  146.125000  257.025000  29.050000  63.600000   3.862500   \n",
       "2  101.750000   44.750000  133.750000   6.275000  55.150000  16.475000   \n",
       "3  329.800000  306.600000  206.820000  26.870000  64.240000  11.910000   \n",
       "\n",
       "   proteines  cholesterol  magnesium  \n",
       "0  18.971429    71.428571  21.714286  \n",
       "1  26.562500    96.250000  38.875000  \n",
       "2   7.200000    18.250000  11.250000  \n",
       "3  21.080000    82.000000  27.400000  "
      ]
     },
     "execution_count": 13,
     "metadata": {},
     "output_type": "execute_result"
    }
   ],
   "source": [
    "pd.DataFrame(data=kmeans.cluster_centers_,columns=fromage.columns)"
   ]
  },
  {
   "cell_type": "markdown",
   "metadata": {},
   "source": [
    "**Détection du nombre adéquat de clusters**"
   ]
  },
  {
   "cell_type": "code",
   "execution_count": 14,
   "metadata": {},
   "outputs": [
    {
     "name": "stdout",
     "output_type": "stream",
     "text": [
      "[0.50681355 0.37299771 0.3282387  0.35737616 0.32267618 0.28114392\n",
      " 0.29450378 0.23904343 0.25006247]\n"
     ]
    },
    {
     "data": {
      "text/plain": [
       "<function matplotlib.pyplot.show(*args, **kw)>"
      ]
     },
     "execution_count": 14,
     "metadata": {},
     "output_type": "execute_result"
    },
    {
     "data": {
      "image/png": "[encoded data removed]",
      "text/plain": [
       "<Figure size 432x288 with 1 Axes>"
      ]
     },
     "metadata": {
      "needs_background": "light"
     },
     "output_type": "display_data"
    }
   ],
   "source": [
    "res = np.arange(9, dtype =\"double\")\n",
    "for k in np.arange(9):\n",
    "    km = cluster.KMeans(n_clusters = k+2)\n",
    "    km.fit(fromage)\n",
    "    res[k] = metrics.silhouette_score(fromage,km.labels_)\n",
    "print (res)\n",
    "#graphique\n",
    "import matplotlib.pyplot as plt\n",
    "plt.title(\"silhouette\")\n",
    "plt.xlabel(\"Number of clusters\")\n",
    "plt.plot(np.arange(2,11,1),(res))\n",
    "plt.show"
   ]
  },
  {
   "cell_type": "markdown",
   "metadata": {},
   "source": [
    "D'après le graphe ci-dessus, la valeur la plus élevée de la métrique silhouette est obtenue pour un nombre de cluster égal à 2. Donc cette valeur est la meilleure."
   ]
  },
  {
   "cell_type": "markdown",
   "metadata": {},
   "source": [
    "## Partie 3 : CAH"
   ]
  },
  {
   "cell_type": "code",
   "execution_count": 15,
   "metadata": {},
   "outputs": [
    {
     "data": {
      "image/png": "[encoded data removed]",
      "text/plain": [
       "<Figure size 432x288 with 1 Axes>"
      ]
     },
     "metadata": {
      "needs_background": "light"
     },
     "output_type": "display_data"
    }
   ],
   "source": [
    "Z = linkage(fromage,method='ward', metric='euclidean')\n",
    "plt.title(\"CAH\")\n",
    "plt.title('CAH avec matérialisation des 4 classes')\n",
    "dendrogram(Z,labels=fromage.index,orientation='left',color_threshold=255)\n",
    "plt.show()\n",
    "groupes_cah = fcluster(Z, t = 255,criterion='distance')\n",
    "idg = np.argsort(groupes_cah)"
   ]
  },
  {
   "cell_type": "markdown",
   "metadata": {},
   "source": [
    "➠ D'après le dendrogramme, les clusters 1, 2 , 3 et 4 sont contitués respectivement de fromages frais,fromages à pâte pressée, fromages à pâte persillée  et fromages à pâte molle. On remarqeu que le cluster 1 (fromages frais) se distingue fortement des autres clusters. Donc on pourra faire un découpage en 2 clusters."
   ]
  },
  {
   "cell_type": "code",
   "execution_count": 16,
   "metadata": {},
   "outputs": [
    {
     "data": {
      "text/html": [
       "<div>\n",
       "<style scoped>\n",
       "    .dataframe tbody tr th:only-of-type {\n",
       "        vertical-align: middle;\n",
       "    }\n",
       "\n",
       "    .dataframe tbody tr th {\n",
       "        vertical-align: top;\n",
       "    }\n",
       "\n",
       "    .dataframe thead th {\n",
       "        text-align: right;\n",
       "    }\n",
       "</style>\n",
       "<table border=\"1\" class=\"dataframe\">\n",
       "  <thead>\n",
       "    <tr style=\"text-align: right;\">\n",
       "      <th></th>\n",
       "      <th>Fromages</th>\n",
       "    </tr>\n",
       "  </thead>\n",
       "  <tbody>\n",
       "    <tr>\n",
       "      <td>1</td>\n",
       "      <td>Yaourtlaitent.nat.</td>\n",
       "    </tr>\n",
       "    <tr>\n",
       "      <td>1</td>\n",
       "      <td>Petitsuisse40</td>\n",
       "    </tr>\n",
       "    <tr>\n",
       "      <td>1</td>\n",
       "      <td>Fr.frais40nat.</td>\n",
       "    </tr>\n",
       "    <tr>\n",
       "      <td>1</td>\n",
       "      <td>Fr.frais20nat.</td>\n",
       "    </tr>\n",
       "    <tr>\n",
       "      <td>2</td>\n",
       "      <td>SaintPaulin</td>\n",
       "    </tr>\n",
       "    <tr>\n",
       "      <td>2</td>\n",
       "      <td>Beaufort</td>\n",
       "    </tr>\n",
       "    <tr>\n",
       "      <td>2</td>\n",
       "      <td>Cantal</td>\n",
       "    </tr>\n",
       "    <tr>\n",
       "      <td>2</td>\n",
       "      <td>Parmesan</td>\n",
       "    </tr>\n",
       "    <tr>\n",
       "      <td>2</td>\n",
       "      <td>Cheddar</td>\n",
       "    </tr>\n",
       "    <tr>\n",
       "      <td>2</td>\n",
       "      <td>Comte</td>\n",
       "    </tr>\n",
       "    <tr>\n",
       "      <td>2</td>\n",
       "      <td>Edam</td>\n",
       "    </tr>\n",
       "    <tr>\n",
       "      <td>2</td>\n",
       "      <td>Emmental</td>\n",
       "    </tr>\n",
       "    <tr>\n",
       "      <td>2</td>\n",
       "      <td>Vacherin</td>\n",
       "    </tr>\n",
       "    <tr>\n",
       "      <td>3</td>\n",
       "      <td>Rocquefort</td>\n",
       "    </tr>\n",
       "    <tr>\n",
       "      <td>3</td>\n",
       "      <td>Morbier</td>\n",
       "    </tr>\n",
       "    <tr>\n",
       "      <td>3</td>\n",
       "      <td>Maroilles</td>\n",
       "    </tr>\n",
       "    <tr>\n",
       "      <td>3</td>\n",
       "      <td>CarredelEst</td>\n",
       "    </tr>\n",
       "    <tr>\n",
       "      <td>3</td>\n",
       "      <td>Camembert</td>\n",
       "    </tr>\n",
       "    <tr>\n",
       "      <td>3</td>\n",
       "      <td>Bleu</td>\n",
       "    </tr>\n",
       "    <tr>\n",
       "      <td>3</td>\n",
       "      <td>Fr.fondu.45</td>\n",
       "    </tr>\n",
       "    <tr>\n",
       "      <td>4</td>\n",
       "      <td>Coulomniers</td>\n",
       "    </tr>\n",
       "    <tr>\n",
       "      <td>4</td>\n",
       "      <td>Chaource</td>\n",
       "    </tr>\n",
       "    <tr>\n",
       "      <td>4</td>\n",
       "      <td>Chabichou</td>\n",
       "    </tr>\n",
       "    <tr>\n",
       "      <td>4</td>\n",
       "      <td>PontlEveque</td>\n",
       "    </tr>\n",
       "    <tr>\n",
       "      <td>4</td>\n",
       "      <td>Pyrenees</td>\n",
       "    </tr>\n",
       "    <tr>\n",
       "      <td>4</td>\n",
       "      <td>Reblochon</td>\n",
       "    </tr>\n",
       "    <tr>\n",
       "      <td>4</td>\n",
       "      <td>Babybel</td>\n",
       "    </tr>\n",
       "    <tr>\n",
       "      <td>4</td>\n",
       "      <td>Tome</td>\n",
       "    </tr>\n",
       "    <tr>\n",
       "      <td>4</td>\n",
       "      <td>Fr.chevrepatemolle</td>\n",
       "    </tr>\n",
       "  </tbody>\n",
       "</table>\n",
       "</div>"
      ],
      "text/plain": [
       "             Fromages\n",
       "1  Yaourtlaitent.nat.\n",
       "1       Petitsuisse40\n",
       "1      Fr.frais40nat.\n",
       "1      Fr.frais20nat.\n",
       "2         SaintPaulin\n",
       "2            Beaufort\n",
       "2              Cantal\n",
       "2            Parmesan\n",
       "2             Cheddar\n",
       "2               Comte\n",
       "2                Edam\n",
       "2            Emmental\n",
       "2            Vacherin\n",
       "3          Rocquefort\n",
       "3             Morbier\n",
       "3           Maroilles\n",
       "3         CarredelEst\n",
       "3           Camembert\n",
       "3                Bleu\n",
       "3         Fr.fondu.45\n",
       "4         Coulomniers\n",
       "4            Chaource\n",
       "4           Chabichou\n",
       "4         PontlEveque\n",
       "4            Pyrenees\n",
       "4           Reblochon\n",
       "4             Babybel\n",
       "4                Tome\n",
       "4  Fr.chevrepatemolle"
      ]
     },
     "execution_count": 16,
     "metadata": {},
     "output_type": "execute_result"
    }
   ],
   "source": [
    "pd.DataFrame(fromage.index[idg],groupes_cah[idg])"
   ]
  },
  {
   "cell_type": "code",
   "execution_count": 17,
   "metadata": {},
   "outputs": [
    {
     "data": {
      "text/html": [
       "<div>\n",
       "<style scoped>\n",
       "    .dataframe tbody tr th:only-of-type {\n",
       "        vertical-align: middle;\n",
       "    }\n",
       "\n",
       "    .dataframe tbody tr th {\n",
       "        vertical-align: top;\n",
       "    }\n",
       "\n",
       "    .dataframe thead th {\n",
       "        text-align: right;\n",
       "    }\n",
       "</style>\n",
       "<table border=\"1\" class=\"dataframe\">\n",
       "  <thead>\n",
       "    <tr style=\"text-align: right;\">\n",
       "      <th>col_0</th>\n",
       "      <th>0</th>\n",
       "      <th>1</th>\n",
       "      <th>2</th>\n",
       "      <th>3</th>\n",
       "    </tr>\n",
       "    <tr>\n",
       "      <th>row_0</th>\n",
       "      <th></th>\n",
       "      <th></th>\n",
       "      <th></th>\n",
       "      <th></th>\n",
       "    </tr>\n",
       "  </thead>\n",
       "  <tbody>\n",
       "    <tr>\n",
       "      <td>1</td>\n",
       "      <td>0</td>\n",
       "      <td>0</td>\n",
       "      <td>4</td>\n",
       "      <td>0</td>\n",
       "    </tr>\n",
       "    <tr>\n",
       "      <td>2</td>\n",
       "      <td>0</td>\n",
       "      <td>8</td>\n",
       "      <td>0</td>\n",
       "      <td>1</td>\n",
       "    </tr>\n",
       "    <tr>\n",
       "      <td>3</td>\n",
       "      <td>1</td>\n",
       "      <td>0</td>\n",
       "      <td>0</td>\n",
       "      <td>6</td>\n",
       "    </tr>\n",
       "    <tr>\n",
       "      <td>4</td>\n",
       "      <td>6</td>\n",
       "      <td>0</td>\n",
       "      <td>0</td>\n",
       "      <td>3</td>\n",
       "    </tr>\n",
       "  </tbody>\n",
       "</table>\n",
       "</div>"
      ],
      "text/plain": [
       "col_0  0  1  2  3\n",
       "row_0            \n",
       "1      0  0  4  0\n",
       "2      0  8  0  1\n",
       "3      1  0  0  6\n",
       "4      6  0  0  3"
      ]
     },
     "execution_count": 17,
     "metadata": {},
     "output_type": "execute_result"
    }
   ],
   "source": [
    "pd.crosstab(groupes_cah, kmeans.labels_)"
   ]
  },
  {
   "cell_type": "markdown",
   "metadata": {},
   "source": [
    "➠ Il y a une correspondance exacte entre le cluster 3 des K-means et le cluster 1 de CAH."
   ]
  },
  {
   "cell_type": "markdown",
   "metadata": {},
   "source": [
    "## Partie 4 : ACP"
   ]
  },
  {
   "cell_type": "code",
   "execution_count": 18,
   "metadata": {},
   "outputs": [
    {
     "data": {
      "image/png": "[encoded data removed]",
      "text/plain": [
       "<Figure size 432x288 with 1 Axes>"
      ]
     },
     "metadata": {
      "needs_background": "light"
     },
     "output_type": "display_data"
    }
   ],
   "source": [
    "from sklearn.decomposition import PCA\n",
    "acp = PCA(n_components =2).fit_transform(fromage)\n",
    "for couleur,k in zip(['red','blue','lawngreen', 'aqua'],[0,1,2,3]):\n",
    "    plt.scatter(acp[kmeans.labels_==k,0],acp[kmeans.labels_==k,1],c=couleur)\n",
    "plt.show()"
   ]
  },
  {
   "cell_type": "markdown",
   "metadata": {},
   "source": [
    "➠ On remarque que  le cluster 1 (fromages frais : lawngreen) est eloigné des autres clusters."
   ]
  },
  {
   "cell_type": "markdown",
   "metadata": {},
   "source": [
    "## La méthode CAH du package sklearn.cluster.AgglomerativeClustering"
   ]
  },
  {
   "cell_type": "code",
   "execution_count": 19,
   "metadata": {},
   "outputs": [],
   "source": [
    "agg = cluster.AgglomerativeClustering(n_clusters = 4)\n",
    "agg.fit(fromage)\n",
    "idagg = np.argsort(agg.labels_)"
   ]
  },
  {
   "cell_type": "code",
   "execution_count": 20,
   "metadata": {},
   "outputs": [
    {
     "data": {
      "text/html": [
       "<div>\n",
       "<style scoped>\n",
       "    .dataframe tbody tr th:only-of-type {\n",
       "        vertical-align: middle;\n",
       "    }\n",
       "\n",
       "    .dataframe tbody tr th {\n",
       "        vertical-align: top;\n",
       "    }\n",
       "\n",
       "    .dataframe thead th {\n",
       "        text-align: right;\n",
       "    }\n",
       "</style>\n",
       "<table border=\"1\" class=\"dataframe\">\n",
       "  <thead>\n",
       "    <tr style=\"text-align: right;\">\n",
       "      <th></th>\n",
       "      <th>Fromages</th>\n",
       "    </tr>\n",
       "  </thead>\n",
       "  <tbody>\n",
       "    <tr>\n",
       "      <td>0</td>\n",
       "      <td>SaintPaulin</td>\n",
       "    </tr>\n",
       "    <tr>\n",
       "      <td>0</td>\n",
       "      <td>Beaufort</td>\n",
       "    </tr>\n",
       "    <tr>\n",
       "      <td>0</td>\n",
       "      <td>Parmesan</td>\n",
       "    </tr>\n",
       "    <tr>\n",
       "      <td>0</td>\n",
       "      <td>Cantal</td>\n",
       "    </tr>\n",
       "    <tr>\n",
       "      <td>0</td>\n",
       "      <td>Cheddar</td>\n",
       "    </tr>\n",
       "    <tr>\n",
       "      <td>0</td>\n",
       "      <td>Comte</td>\n",
       "    </tr>\n",
       "    <tr>\n",
       "      <td>0</td>\n",
       "      <td>Vacherin</td>\n",
       "    </tr>\n",
       "    <tr>\n",
       "      <td>0</td>\n",
       "      <td>Edam</td>\n",
       "    </tr>\n",
       "    <tr>\n",
       "      <td>0</td>\n",
       "      <td>Emmental</td>\n",
       "    </tr>\n",
       "    <tr>\n",
       "      <td>1</td>\n",
       "      <td>CarredelEst</td>\n",
       "    </tr>\n",
       "    <tr>\n",
       "      <td>1</td>\n",
       "      <td>Rocquefort</td>\n",
       "    </tr>\n",
       "    <tr>\n",
       "      <td>1</td>\n",
       "      <td>Morbier</td>\n",
       "    </tr>\n",
       "    <tr>\n",
       "      <td>1</td>\n",
       "      <td>Maroilles</td>\n",
       "    </tr>\n",
       "    <tr>\n",
       "      <td>1</td>\n",
       "      <td>Fr.fondu.45</td>\n",
       "    </tr>\n",
       "    <tr>\n",
       "      <td>1</td>\n",
       "      <td>Camembert</td>\n",
       "    </tr>\n",
       "    <tr>\n",
       "      <td>1</td>\n",
       "      <td>Bleu</td>\n",
       "    </tr>\n",
       "    <tr>\n",
       "      <td>2</td>\n",
       "      <td>Coulomniers</td>\n",
       "    </tr>\n",
       "    <tr>\n",
       "      <td>2</td>\n",
       "      <td>Chaource</td>\n",
       "    </tr>\n",
       "    <tr>\n",
       "      <td>2</td>\n",
       "      <td>Chabichou</td>\n",
       "    </tr>\n",
       "    <tr>\n",
       "      <td>2</td>\n",
       "      <td>PontlEveque</td>\n",
       "    </tr>\n",
       "    <tr>\n",
       "      <td>2</td>\n",
       "      <td>Pyrenees</td>\n",
       "    </tr>\n",
       "    <tr>\n",
       "      <td>2</td>\n",
       "      <td>Reblochon</td>\n",
       "    </tr>\n",
       "    <tr>\n",
       "      <td>2</td>\n",
       "      <td>Babybel</td>\n",
       "    </tr>\n",
       "    <tr>\n",
       "      <td>2</td>\n",
       "      <td>Tome</td>\n",
       "    </tr>\n",
       "    <tr>\n",
       "      <td>2</td>\n",
       "      <td>Fr.chevrepatemolle</td>\n",
       "    </tr>\n",
       "    <tr>\n",
       "      <td>3</td>\n",
       "      <td>Fr.frais20nat.</td>\n",
       "    </tr>\n",
       "    <tr>\n",
       "      <td>3</td>\n",
       "      <td>Fr.frais40nat.</td>\n",
       "    </tr>\n",
       "    <tr>\n",
       "      <td>3</td>\n",
       "      <td>Petitsuisse40</td>\n",
       "    </tr>\n",
       "    <tr>\n",
       "      <td>3</td>\n",
       "      <td>Yaourtlaitent.nat.</td>\n",
       "    </tr>\n",
       "  </tbody>\n",
       "</table>\n",
       "</div>"
      ],
      "text/plain": [
       "             Fromages\n",
       "0         SaintPaulin\n",
       "0            Beaufort\n",
       "0            Parmesan\n",
       "0              Cantal\n",
       "0             Cheddar\n",
       "0               Comte\n",
       "0            Vacherin\n",
       "0                Edam\n",
       "0            Emmental\n",
       "1         CarredelEst\n",
       "1          Rocquefort\n",
       "1             Morbier\n",
       "1           Maroilles\n",
       "1         Fr.fondu.45\n",
       "1           Camembert\n",
       "1                Bleu\n",
       "2         Coulomniers\n",
       "2            Chaource\n",
       "2           Chabichou\n",
       "2         PontlEveque\n",
       "2            Pyrenees\n",
       "2           Reblochon\n",
       "2             Babybel\n",
       "2                Tome\n",
       "2  Fr.chevrepatemolle\n",
       "3      Fr.frais20nat.\n",
       "3      Fr.frais40nat.\n",
       "3       Petitsuisse40\n",
       "3  Yaourtlaitent.nat."
      ]
     },
     "execution_count": 20,
     "metadata": {},
     "output_type": "execute_result"
    }
   ],
   "source": [
    "pd.DataFrame(fromage.index[idagg],agg.labels_[idagg])"
   ]
  },
  {
   "cell_type": "code",
   "execution_count": 21,
   "metadata": {},
   "outputs": [
    {
     "data": {
      "text/html": [
       "<div>\n",
       "<style scoped>\n",
       "    .dataframe tbody tr th:only-of-type {\n",
       "        vertical-align: middle;\n",
       "    }\n",
       "\n",
       "    .dataframe tbody tr th {\n",
       "        vertical-align: top;\n",
       "    }\n",
       "\n",
       "    .dataframe thead th {\n",
       "        text-align: right;\n",
       "    }\n",
       "</style>\n",
       "<table border=\"1\" class=\"dataframe\">\n",
       "  <thead>\n",
       "    <tr style=\"text-align: right;\">\n",
       "      <th>col_0</th>\n",
       "      <th>1</th>\n",
       "      <th>2</th>\n",
       "      <th>3</th>\n",
       "      <th>4</th>\n",
       "    </tr>\n",
       "    <tr>\n",
       "      <th>row_0</th>\n",
       "      <th></th>\n",
       "      <th></th>\n",
       "      <th></th>\n",
       "      <th></th>\n",
       "    </tr>\n",
       "  </thead>\n",
       "  <tbody>\n",
       "    <tr>\n",
       "      <td>0</td>\n",
       "      <td>0</td>\n",
       "      <td>9</td>\n",
       "      <td>0</td>\n",
       "      <td>0</td>\n",
       "    </tr>\n",
       "    <tr>\n",
       "      <td>1</td>\n",
       "      <td>0</td>\n",
       "      <td>0</td>\n",
       "      <td>7</td>\n",
       "      <td>0</td>\n",
       "    </tr>\n",
       "    <tr>\n",
       "      <td>2</td>\n",
       "      <td>0</td>\n",
       "      <td>0</td>\n",
       "      <td>0</td>\n",
       "      <td>9</td>\n",
       "    </tr>\n",
       "    <tr>\n",
       "      <td>3</td>\n",
       "      <td>4</td>\n",
       "      <td>0</td>\n",
       "      <td>0</td>\n",
       "      <td>0</td>\n",
       "    </tr>\n",
       "  </tbody>\n",
       "</table>\n",
       "</div>"
      ],
      "text/plain": [
       "col_0  1  2  3  4\n",
       "row_0            \n",
       "0      0  9  0  0\n",
       "1      0  0  7  0\n",
       "2      0  0  0  9\n",
       "3      4  0  0  0"
      ]
     },
     "execution_count": 21,
     "metadata": {},
     "output_type": "execute_result"
    }
   ],
   "source": [
    "pd.crosstab(agg.labels_, groupes_cah)"
   ]
  },
  {
   "cell_type": "markdown",
   "metadata": {},
   "source": [
    "➠ On remarque qu'il a une correspondance exacte entre les clusters."
   ]
  },
  {
   "cell_type": "markdown",
   "metadata": {},
   "source": [
    "# Divisive Analysing"
   ]
  },
  {
   "cell_type": "markdown",
   "metadata": {},
   "source": [
    "Implémentation de l'algorithme hiérarchique descendant."
   ]
  },
  {
   "cell_type": "code",
   "execution_count": 25,
   "metadata": {},
   "outputs": [
    {
     "name": "stdout",
     "output_type": "stream",
     "text": [
      "*******Level 1 *******\n",
      "cluster N° 1 : Index(['CarredelEst', 'Babybel', 'Beaufort', 'Bleu', 'Camembert', 'Cantal',\n",
      "       'Chabichou', 'Chaource', 'Cheddar', 'Comte', 'Coulomniers', 'Edam',\n",
      "       'Emmental', 'Fr.chevrepatemolle', 'Fr.fondu.45', 'Fr.frais20nat.',\n",
      "       'Fr.frais40nat.', 'Maroilles', 'Morbier', 'Parmesan', 'Petitsuisse40',\n",
      "       'PontlEveque', 'Pyrenees', 'Reblochon', 'Rocquefort', 'SaintPaulin',\n",
      "       'Tome', 'Vacherin', 'Yaourtlaitent.nat.'],\n",
      "      dtype='object', name='Fromages')\n",
      "*******Level 2 *******\n",
      "cluster N° 1 : Index(['CarredelEst', 'Babybel', 'Beaufort', 'Bleu', 'Camembert', 'Cantal',\n",
      "       'Chabichou', 'Chaource', 'Cheddar', 'Comte', 'Coulomniers', 'Edam',\n",
      "       'Emmental', 'Fr.fondu.45', 'Maroilles', 'Morbier', 'Parmesan',\n",
      "       'PontlEveque', 'Pyrenees', 'Reblochon', 'Rocquefort', 'SaintPaulin',\n",
      "       'Tome', 'Vacherin'],\n",
      "      dtype='object', name='Fromages')\n",
      "cluster N° 2 : Index(['Fr.chevrepatemolle', 'Fr.frais20nat.', 'Fr.frais40nat.',\n",
      "       'Petitsuisse40', 'Yaourtlaitent.nat.'],\n",
      "      dtype='object', name='Fromages')\n",
      "*******Level 3 *******\n",
      "cluster N° 1 : Index(['CarredelEst', 'Babybel', 'Bleu', 'Camembert', 'Chabichou', 'Chaource',\n",
      "       'Coulomniers', 'Fr.fondu.45', 'Maroilles', 'Morbier', 'PontlEveque',\n",
      "       'Pyrenees', 'Reblochon', 'Rocquefort', 'Tome'],\n",
      "      dtype='object', name='Fromages')\n",
      "cluster N° 2 : Index(['Beaufort', 'Cantal', 'Cheddar', 'Comte', 'Edam', 'Emmental',\n",
      "       'Parmesan', 'SaintPaulin', 'Vacherin'],\n",
      "      dtype='object', name='Fromages')\n",
      "cluster N° 3 : Index(['Fr.frais20nat.', 'Fr.frais40nat.', 'Petitsuisse40',\n",
      "       'Yaourtlaitent.nat.'],\n",
      "      dtype='object', name='Fromages')\n",
      "cluster N° 4 : Index(['Fr.chevrepatemolle'], dtype='object', name='Fromages')\n",
      "*******Level 4 *******\n",
      "cluster N° 1 : Index(['CarredelEst', 'Bleu', 'Camembert', 'Fr.fondu.45', 'Maroilles',\n",
      "       'Morbier', 'Rocquefort'],\n",
      "      dtype='object', name='Fromages')\n",
      "cluster N° 2 : Index(['Babybel', 'Chabichou', 'Chaource', 'Coulomniers', 'PontlEveque',\n",
      "       'Pyrenees', 'Reblochon', 'Tome'],\n",
      "      dtype='object', name='Fromages')\n",
      "cluster N° 3 : Index(['Beaufort', 'Cheddar', 'Comte', 'Edam', 'Emmental', 'Vacherin'], dtype='object', name='Fromages')\n",
      "cluster N° 4 : Index(['Cantal', 'Parmesan', 'SaintPaulin'], dtype='object', name='Fromages')\n",
      "cluster N° 5 : Index(['Fr.frais20nat.', 'Yaourtlaitent.nat.'], dtype='object', name='Fromages')\n",
      "cluster N° 6 : Index(['Fr.frais40nat.', 'Petitsuisse40'], dtype='object', name='Fromages')\n",
      "cluster N° 7 : Index(['Fr.chevrepatemolle'], dtype='object', name='Fromages')\n",
      "*******Level 5 *******\n",
      "cluster N° 1 : Index(['Bleu', 'Camembert', 'Maroilles', 'Morbier'], dtype='object', name='Fromages')\n",
      "cluster N° 2 : Index(['CarredelEst', 'Fr.fondu.45', 'Rocquefort'], dtype='object', name='Fromages')\n",
      "cluster N° 3 : Index(['Chabichou', 'Chaource', 'Coulomniers', 'Tome'], dtype='object', name='Fromages')\n",
      "cluster N° 4 : Index(['Babybel', 'PontlEveque', 'Pyrenees', 'Reblochon'], dtype='object', name='Fromages')\n",
      "cluster N° 5 : Index(['Beaufort', 'Comte', 'Emmental'], dtype='object', name='Fromages')\n",
      "cluster N° 6 : Index(['Cheddar', 'Edam', 'Vacherin'], dtype='object', name='Fromages')\n",
      "cluster N° 7 : Index(['SaintPaulin'], dtype='object', name='Fromages')\n",
      "cluster N° 8 : Index(['Cantal', 'Parmesan'], dtype='object', name='Fromages')\n",
      "cluster N° 9 : Index(['Fr.frais20nat.'], dtype='object', name='Fromages')\n",
      "cluster N° 10 : Index(['Yaourtlaitent.nat.'], dtype='object', name='Fromages')\n",
      "cluster N° 11 : Index(['Petitsuisse40'], dtype='object', name='Fromages')\n",
      "cluster N° 12 : Index(['Fr.frais40nat.'], dtype='object', name='Fromages')\n",
      "cluster N° 13 : Index(['Fr.chevrepatemolle'], dtype='object', name='Fromages')\n",
      "*******Level 6 *******\n",
      "cluster N° 1 : Index(['Camembert'], dtype='object', name='Fromages')\n",
      "cluster N° 2 : Index(['Bleu', 'Maroilles', 'Morbier'], dtype='object', name='Fromages')\n",
      "cluster N° 3 : Index(['Fr.fondu.45', 'Rocquefort'], dtype='object', name='Fromages')\n",
      "cluster N° 4 : Index(['CarredelEst'], dtype='object', name='Fromages')\n",
      "cluster N° 5 : Index(['Chaource', 'Tome'], dtype='object', name='Fromages')\n",
      "cluster N° 6 : Index(['Chabichou', 'Coulomniers'], dtype='object', name='Fromages')\n",
      "cluster N° 7 : Index(['PontlEveque', 'Pyrenees'], dtype='object', name='Fromages')\n",
      "cluster N° 8 : Index(['Babybel', 'Reblochon'], dtype='object', name='Fromages')\n",
      "cluster N° 9 : Index(['Emmental'], dtype='object', name='Fromages')\n",
      "cluster N° 10 : Index(['Beaufort', 'Comte'], dtype='object', name='Fromages')\n",
      "cluster N° 11 : Index(['Edam', 'Vacherin'], dtype='object', name='Fromages')\n",
      "cluster N° 12 : Index(['Cheddar'], dtype='object', name='Fromages')\n",
      "cluster N° 13 : Index(['SaintPaulin'], dtype='object', name='Fromages')\n",
      "cluster N° 14 : Index(['Parmesan'], dtype='object', name='Fromages')\n",
      "cluster N° 15 : Index(['Cantal'], dtype='object', name='Fromages')\n",
      "cluster N° 16 : Index(['Fr.frais20nat.'], dtype='object', name='Fromages')\n",
      "cluster N° 17 : Index(['Yaourtlaitent.nat.'], dtype='object', name='Fromages')\n",
      "cluster N° 18 : Index(['Petitsuisse40'], dtype='object', name='Fromages')\n",
      "cluster N° 19 : Index(['Fr.frais40nat.'], dtype='object', name='Fromages')\n",
      "cluster N° 20 : Index(['Fr.chevrepatemolle'], dtype='object', name='Fromages')\n",
      "*******Level 7 *******\n",
      "cluster N° 1 : Index(['Camembert'], dtype='object', name='Fromages')\n",
      "cluster N° 2 : Index(['Bleu'], dtype='object', name='Fromages')\n",
      "cluster N° 3 : Index(['Maroilles', 'Morbier'], dtype='object', name='Fromages')\n",
      "cluster N° 4 : Index(['Rocquefort'], dtype='object', name='Fromages')\n",
      "cluster N° 5 : Index(['Fr.fondu.45'], dtype='object', name='Fromages')\n",
      "cluster N° 6 : Index(['CarredelEst'], dtype='object', name='Fromages')\n",
      "cluster N° 7 : Index(['Tome'], dtype='object', name='Fromages')\n",
      "cluster N° 8 : Index(['Chaource'], dtype='object', name='Fromages')\n",
      "cluster N° 9 : Index(['Coulomniers'], dtype='object', name='Fromages')\n",
      "cluster N° 10 : Index(['Chabichou'], dtype='object', name='Fromages')\n",
      "cluster N° 11 : Index(['PontlEveque'], dtype='object', name='Fromages')\n",
      "cluster N° 12 : Index(['Pyrenees'], dtype='object', name='Fromages')\n",
      "cluster N° 13 : Index(['Babybel'], dtype='object', name='Fromages')\n",
      "cluster N° 14 : Index(['Reblochon'], dtype='object', name='Fromages')\n",
      "cluster N° 15 : Index(['Emmental'], dtype='object', name='Fromages')\n",
      "cluster N° 16 : Index(['Beaufort'], dtype='object', name='Fromages')\n",
      "cluster N° 17 : Index(['Comte'], dtype='object', name='Fromages')\n",
      "cluster N° 18 : Index(['Vacherin'], dtype='object', name='Fromages')\n",
      "cluster N° 19 : Index(['Edam'], dtype='object', name='Fromages')\n",
      "cluster N° 20 : Index(['Cheddar'], dtype='object', name='Fromages')\n",
      "cluster N° 21 : Index(['SaintPaulin'], dtype='object', name='Fromages')\n",
      "cluster N° 22 : Index(['Parmesan'], dtype='object', name='Fromages')\n",
      "cluster N° 23 : Index(['Cantal'], dtype='object', name='Fromages')\n",
      "cluster N° 24 : Index(['Fr.frais20nat.'], dtype='object', name='Fromages')\n",
      "cluster N° 25 : Index(['Yaourtlaitent.nat.'], dtype='object', name='Fromages')\n",
      "cluster N° 26 : Index(['Petitsuisse40'], dtype='object', name='Fromages')\n",
      "cluster N° 27 : Index(['Fr.frais40nat.'], dtype='object', name='Fromages')\n",
      "cluster N° 28 : Index(['Fr.chevrepatemolle'], dtype='object', name='Fromages')\n",
      "*******Level 8 *******\n",
      "cluster N° 1 : Index(['Camembert'], dtype='object', name='Fromages')\n",
      "cluster N° 2 : Index(['Bleu'], dtype='object', name='Fromages')\n",
      "cluster N° 3 : Index(['Maroilles'], dtype='object', name='Fromages')\n",
      "cluster N° 4 : Index(['Morbier'], dtype='object', name='Fromages')\n",
      "cluster N° 5 : Index(['Rocquefort'], dtype='object', name='Fromages')\n",
      "cluster N° 6 : Index(['Fr.fondu.45'], dtype='object', name='Fromages')\n",
      "cluster N° 7 : Index(['CarredelEst'], dtype='object', name='Fromages')\n",
      "cluster N° 8 : Index(['Tome'], dtype='object', name='Fromages')\n",
      "cluster N° 9 : Index(['Chaource'], dtype='object', name='Fromages')\n",
      "cluster N° 10 : Index(['Coulomniers'], dtype='object', name='Fromages')\n",
      "cluster N° 11 : Index(['Chabichou'], dtype='object', name='Fromages')\n",
      "cluster N° 12 : Index(['PontlEveque'], dtype='object', name='Fromages')\n",
      "cluster N° 13 : Index(['Pyrenees'], dtype='object', name='Fromages')\n",
      "cluster N° 14 : Index(['Babybel'], dtype='object', name='Fromages')\n",
      "cluster N° 15 : Index(['Reblochon'], dtype='object', name='Fromages')\n",
      "cluster N° 16 : Index(['Emmental'], dtype='object', name='Fromages')\n",
      "cluster N° 17 : Index(['Beaufort'], dtype='object', name='Fromages')\n",
      "cluster N° 18 : Index(['Comte'], dtype='object', name='Fromages')\n",
      "cluster N° 19 : Index(['Vacherin'], dtype='object', name='Fromages')\n",
      "cluster N° 20 : Index(['Edam'], dtype='object', name='Fromages')\n",
      "cluster N° 21 : Index(['Cheddar'], dtype='object', name='Fromages')\n",
      "cluster N° 22 : Index(['SaintPaulin'], dtype='object', name='Fromages')\n",
      "cluster N° 23 : Index(['Parmesan'], dtype='object', name='Fromages')\n",
      "cluster N° 24 : Index(['Cantal'], dtype='object', name='Fromages')\n",
      "cluster N° 25 : Index(['Fr.frais20nat.'], dtype='object', name='Fromages')\n",
      "cluster N° 26 : Index(['Yaourtlaitent.nat.'], dtype='object', name='Fromages')\n",
      "cluster N° 27 : Index(['Petitsuisse40'], dtype='object', name='Fromages')\n",
      "cluster N° 28 : Index(['Fr.frais40nat.'], dtype='object', name='Fromages')\n",
      "cluster N° 29 : Index(['Fr.chevrepatemolle'], dtype='object', name='Fromages')\n"
     ]
    }
   ],
   "source": [
    "clusters = []\n",
    "clusters.append(fromage)\n",
    "finish = False\n",
    "level = 1\n",
    "km = cluster.KMeans(n_clusters = 2)\n",
    "while(finish == False):\n",
    "    finish = True\n",
    "    print(\"*******Level\" ,level, \"*******\")\n",
    "    for i in range(len(clusters)):\n",
    "        print(\"cluster N°\",i+1,\":\",clusters[i].index)\n",
    "    clusters2 = []\n",
    "    for i in range(len(clusters)):\n",
    "        if(len(clusters[i].index)>1):\n",
    "            finish = False\n",
    "            km.fit(clusters[i])\n",
    "            labels = km.labels_\n",
    "            clusters2.append(clusters[i].iloc[[x-1 for x in (range(1,len(labels)+1)*labels)[range(1,len(labels)+1)*labels != 0]],:])\n",
    "            labels = np.array([1-x for x in labels])\n",
    "            clusters2.append(clusters[i].iloc[[x-1 for x in (range(1,len(labels)+1)*labels)[range(1,len(labels)+1)*labels != 0]],:])\n",
    "        else:\n",
    "            clusters2.append(clusters[i])\n",
    "    clusters = clusters2\n",
    "    level = level + 1"
   ]
  },
  {
   "cell_type": "code",
   "execution_count": null,
   "metadata": {},
   "outputs": [],
   "source": []
  }
 ],
 "metadata": {
  "kernelspec": {
   "display_name": "Python 3",
   "language": "python",
   "name": "python3"
  },
  "language_info": {
   "codemirror_mode": {
    "name": "ipython",
    "version": 3
   },
   "file_extension": ".py",
   "mimetype": "text/x-python",
   "name": "python",
   "nbconvert_exporter": "python",
   "pygments_lexer": "ipython3",
   "version": "3.7.4"
  }
 },
 "nbformat": 4,
 "nbformat_minor": 2
}
